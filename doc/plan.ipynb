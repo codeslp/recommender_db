{
 "cells": [
  {
   "cell_type": "markdown",
   "metadata": {},
   "source": [
    "# Project Plan:\n",
    "## Assumptions:\n",
    "- I am going to assume that the recommender engine will not include user/customer information. You would need user demographics, user behavior, and probably device data and other data to make a recommender, but we don't have that. I assume that will be what is being simulated by the data scientists. Because I don't know what variables they will want to change, I don't know what fields they will need in the tables, so for now I am just going to assume they will be creating user demographic data.\n",
    "- I am going to assume that the data scientists know how to use pandas.\n",
    "- I am going to assume that analysts can use pgadmin to access the database for ad hoc queries\n",
    "- I am going to assume that the data scientists will use ipython notebooks to interact with the db.\n",
    "\n",
    "## Overall Objectives:\n",
    "- Provide a database to support the simulation engine.\n",
    "- Offer both direct SQL access and Python APIs for read and write operations.\n",
    "- Create a demonstration recommender engine.\n",
    "\n",
    "## Plan:\n",
    "\n",
    "I'm planning to use fast api and sqlmodel to do the api db interface.\n"
   ]
  },
  {
   "cell_type": "markdown",
   "metadata": {},
   "source": [
    "### 1. Evaluate and Select RDBMS:\n",
    "#### Objective: Choose an RDBMS that fits the needs of the project.\n",
    "#### Tasks:\n",
    "##### PostgreSQL is an optimal choice for the recommender system for these reasons:\n",
    "- Scalability: It offers high scalability, accommodating both vertical and horizontal growth, making it suitable for an expanding system.\n",
    "- Performance: PostgreSQL is known for handling complex queries efficiently. This is particularly beneficial for a recommender system that requires complex data interactions.\n",
    "- Community Support: With a strong open-source community, PostgreSQL provides extensive documentation, forums, and support, aiding in both development and troubleshooting.\n",
    "- Ease of Integration with Python ORMs: PostgreSQL can be easily interfaced with Python Object-Relational Mapping (ORM) tools like FastAPI and SQLModel, allowing for a more streamlined and efficient development process.\n",
    "- In summary, the combination of scalability, advanced query performance, vibrant community support, and easy integration with popular Python ORMs makes PostgreSQL a fitting choice for building a recommender system that can evolve and adapt to complex data needs.\n",
    "\n",
    "\n",
    "### Notes:\n",
    "- If we want to normalize further (see ERD 2), then we will need to extract the main production country from the \"best\" tables, by comparing eg. best_movies['main_production_country'] to prod_countries['country']. \n",
    "1. ✅ Change name of id columns in credits and titles dfs to content_id\n",
    "2. Put content_id into best dfs"
   ]
  },
  {
   "cell_type": "markdown",
   "metadata": {},
   "source": [
    "### 1.1 Create raw schema for raw original data"
   ]
  },
  {
   "cell_type": "markdown",
   "metadata": {},
   "source": [
    "### 1.2 Load raw data into raw schema in db to meet analyst request to see raw data via ad hoc queries.\n",
    "1. ✅ Load into db (see load_raw_data.ipynb)\n",
    "2. ✅ Create read only user for analysts."
   ]
  },
  {
   "cell_type": "markdown",
   "metadata": {},
   "source": [
    "### 2. Design and Normalize the Database:\n",
    "#### Objective: Transform the initial data into a suitable data model.\n",
    "#### Tasks:\n",
    "- Analyze initial data.\n",
    "- Design tables and relationships.\n",
    "- Normalize to at least 2NF to balance analytical needs and performance\n",
    "- Document assumptions and rationale for design choices."
   ]
  },
  {
   "cell_type": "markdown",
   "metadata": {},
   "source": [
    "### 2.1 Create relational schema for normalized data, create tables schemas, load data into tables"
   ]
  },
  {
   "cell_type": "markdown",
   "metadata": {},
   "source": [
    "### 3. Set Up Database and Load Initial Data:\n",
    "#### Objective: Create the database and import the initial data.\n",
    "#### Tasks:\n",
    "- Set up the selected RDBMS.\n",
    "- Create tables as designed.\n",
    "- Load initial data.\n",
    "- Test with sample queries to ensure everything is working."
   ]
  },
  {
   "cell_type": "markdown",
   "metadata": {},
   "source": [
    "### 4. Develop APIs for Reading and Writing Data:\n",
    "#### Objective: Enable interaction with the database through Python APIs.\n",
    "#### Tasks:\n",
    "- Design Python API endpoints for required operations.\n",
    "- Implement read and write operations.\n",
    "- Provide access to ad-hoc SQL queries.\n",
    "- Ensure security and validation of inputs.\n",
    "- Document API usage.\n",
    "\n",
    "- 4.1. Design API Endpoints\n",
    "Identify the operations needed, such as retrieving specific data, updating records, or inserting new records.\n",
    "Define clear and concise endpoints for each operation. For example, you might have endpoints like /get_movie_details and /add_user_rating.\n",
    "\n",
    "- 4.2. Implement Read and Write Operations\n",
    "Use an ORM like SQLAlchemy to manage database interactions within Python. This will allow you to define models that correspond to your database tables and easily perform CRUD operations.\n",
    "Write functions that correspond to each endpoint. These functions should translate incoming requests into appropriate database queries.\n",
    "\n",
    "- 4.3 Provide Access to Ad-Hoc SQL Queries\n",
    "Consider creating an endpoint that accepts raw SQL queries from authorized data analysts. This requires careful handling to prevent SQL injection attacks.\n",
    "\n",
    "- 4.4 Ensure Security and Validation\n",
    "Validate all incoming data to ensure that it adheres to expected formats.\n",
    "Implement authentication and authorization as needed, ensuring that only authorized users can perform certain actions.\n",
    "\n",
    "- 4.5 Document API Usage\n",
    "Create clear and concise documentation that explains how to interact with each endpoint, including the expected request format and response."
   ]
  },
  {
   "cell_type": "markdown",
   "metadata": {},
   "source": [
    "### 5. Build a Demo Recommender Engine:\n",
    "#### Objective: Showcase the functionality of the APIs and database.\n",
    "#### Tasks:\n",
    "- Develop a simple recommender engine.\n",
    "- Implement reading and writing data using the developed APIs.\n",
    "- Test with real or simulated user data.\n",
    "\n",
    "- 5.1 Develop a Simple Recommender Engine\n",
    "Choose a recommendation algorithm that fits the scope of your demonstration. Collaborative filtering is a common approach that can be implemented relatively quickly.\n",
    "You can use libraries like Scikit-Surprise, which offers various recommendation algorithms.\n",
    "\n",
    "- 5.2 Implement Reading and Writing Data Using APIs\n",
    "Within your recommender engine, make HTTP requests to the APIs you developed in Part 4 to read and write data.\n",
    "For reading, you might retrieve user preferences, historical ratings, or other relevant information.\n",
    "For writing, you might store predictions or user feedback.\n",
    "\n",
    "- 5.3 Test with Real or Simulated User Data\n",
    "Create tests that mimic real user interactions, or use a dataset that resembles what real users might provide.\n",
    "Ensure that the recommender engine can make reasonable predictions and that the read and write operations function correctly."
   ]
  },
  {
   "cell_type": "markdown",
   "metadata": {},
   "source": [
    "### 6. Provide Improvement Suggestions:\n",
    "#### Objective: Analyze the solution and propose improvements.\n",
    "#### Tasks:\n",
    "Review the entire solution.\n",
    "Identify areas for potential improvements.\n",
    "Document suggestions."
   ]
  },
  {
   "cell_type": "markdown",
   "metadata": {},
   "source": [
    "### Bonus Challenges (Optional):\n",
    "Write unit and integration tests for the solution.\n",
    "Build an actual recommender engine to recommend movies."
   ]
  }
 ],
 "metadata": {
  "language_info": {
   "name": "python"
  },
  "orig_nbformat": 4
 },
 "nbformat": 4,
 "nbformat_minor": 2
}
